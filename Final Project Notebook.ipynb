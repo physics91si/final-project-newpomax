{
 "cells": [
  {
   "cell_type": "code",
   "execution_count": 26,
   "metadata": {},
   "outputs": [],
   "source": [
    "import numpy as np\n",
    "import matplotlib.pyplot as plt \n",
    "import string\n",
    "#%matplotlib.pyplot.inline"
   ]
  },
  {
   "cell_type": "markdown",
   "metadata": {},
   "source": [
    "# Final Project Notebook\n",
    "For general notes, practice code to be copy-pasted into actual module, etc\n",
    "\n",
    "Goal: generate rocket-simulating module with ability to process motor curves, assess Cd's, and produce usable result of graphs (altitude, velocity, acceleration) and output (apogee, max speed/acceleration) based on a variety of user input. Allow userse to change parameters such that assumptions can be modified (basically, if someone wants to model a rocket on mars, they should have the ability to do so). Bonus: estimate potential error in the estimate, with some error bars provided on the graphs, uncertainties given on apogee/maximums.\n",
    "\n",
    "References:\n",
    "- http://openrocket.sourceforge.net/techdoc.pdf\n",
    "- http://www.thrustcurve.org/simfilesearch.jsp?id=485\n",
    "- https://www.grc.nasa.gov/www/k-12/airplane/atmosmet.html\n",
    "- http://www-mdp.eng.cam.ac.uk/web/library/enginfo/aerothermal_dvd_only/aero/fprops/propsoffluids/node5.html"
   ]
  },
  {
   "cell_type": "markdown",
   "metadata": {},
   "source": [
    "#### Motor Curves\n",
    "Collect txt files for motor curves from: http://www.thrustcurve.org/simfilesearch.jsp?id=485, which has a bunch that can be thrown in with this folder such that they can be accessed/integrated/etc<br>\n",
    "They are in the format (this stolen from H210Aerotech)<br>\n",
    "THRUST<br>\n",
    "; AeroTech H210R<br>\n",
    "; provided by ThrustCurve.org (www.thrustcurve.org)<br>\n",
    "; total weight: 246g, propellant weight: 121g<br>\n",
    "0.00\t0.00<br>\n",
    "0.02\t121.16<br>\n",
    "0.07\t214.10<br>\n",
    "0.12\t225.03<br>\n",
    "0.17\t233.41<br>\n",
    "0.21\t240.67<br>\n",
    "0.26\t242.94<br>\n",
    "0.31\t245.71<br>\n",
    "0.36\t251.84<br>\n",
    "0.41\t256.59<br>\n",
    "0.45\t259.87<br>\n",
    "0.50\t258.11<br>\n",
    "0.55\t258.82<br>\n",
    "0.60\t255.30<br>\n",
    "0.65\t250.47<br>\n",
    "0.69\t225.34<br>\n",
    "0.74\t209.64<br>\n",
    "0.79\t199.35<br>\n",
    "0.84\t191.39<br>\n",
    "0.89\t175.31<br>\n",
    "0.93\t84.52<br>\n",
    "0.98\t15.97<br>\n",
    "-1.00<br>\n",
    "\n",
    "Let's see if we can import this easily:"
   ]
  },
  {
   "cell_type": "code",
   "execution_count": 44,
   "metadata": {
    "scrolled": true
   },
   "outputs": [
    {
     "name": "stdout",
     "output_type": "stream",
     "text": [
      "{'H210R': [['0.00', '0.00'], ['0.02', '121.16'], ['0.07', '214.10'], ['0.12', '225.03'], ['0.17', '233.41'], ['0.21', '240.67'], ['0.26', '242.94'], ['0.31', '245.71'], ['0.36', '251.84'], ['0.41', '256.59'], ['0.45', '259.87'], ['0.50', '258.11'], ['0.55', '258.82'], ['0.60', '255.30'], ['0.65', '250.47'], ['0.69', '225.34'], ['0.74', '209.64'], ['0.79', '199.35'], ['0.84', '191.39'], ['0.89', '175.31'], ['0.93', '84.52'], ['0.98', '15.97']]}\n"
     ]
    }
   ],
   "source": [
    "motors={}\n",
    "motorfiles = ['H210R']\n",
    "for filename in motorfiles:\n",
    "    z = open('motor_curves/'+filename+'.txt')\n",
    "    time_force=[]\n",
    "    for line in z:\n",
    "        try:\n",
    "            float(line[0])\n",
    "            time_force.append(line.split())\n",
    "        except ValueError:\n",
    "            continue\n",
    "    motors[filename]=time_force\n",
    "    z.close()\n",
    "\n",
    "print motors\n",
    "#kind of gross, but effective; can be looped for list of all motors curves that are saved, just need a list of file names\n",
    "#users could very very easily add their own motor curves to the motor_curves folder, could be provided as a zip or something\n",
    "#maybe only load motor if requested... if so, need a try/catch for case where motor file isnt found, would save processing time if there are tons of motor curves in the file"
   ]
  },
  {
   "cell_type": "markdown",
   "metadata": {},
   "source": [
    "#### Drag: Atmospheric Modeling\n",
    "\n",
    "from https://www.spaceacademy.net.au/watch/debris/atmosmod.htm, we have that density can be measured by $\\rho=\\rho_{0}e^{\\frac{h}{H}}$, where h is the height above the surface, and H is the scale height with the equation: $H=\\frac{k_BT}{mg}$ where m is the average molecular mass of the atmosphere (which is pretty consistent below 100km). <br>\n",
    "$k_B= 1.38064852*10^{-23} \\frac{m^2kg}{s^2K}$ <br>\n",
    "$m = .7809*massN + .2095*massO + 0.0093*massAr + 0.0004*massCO2$, where massN=2.3258671e-26, massO=2.6566962e-26, massAr=6.6335209e-26, massCO2=7.3065426768515e-26 all in kg, so:"
   ]
  },
  {
   "cell_type": "code",
   "execution_count": 2,
   "metadata": {},
   "outputs": [
    {
     "name": "stdout",
     "output_type": "stream",
     "text": [
      "2.43746183374e-26\n"
     ]
    }
   ],
   "source": [
    "massN=2.3258671e-26\n",
    "massO=2.6566962e-26\n",
    "massAr=6.6335209e-26\n",
    "massCO2=7.3065427e-26\n",
    "m= .7809*massN + .2095*massO + 0.0093*massAr + 0.0004*massCO2\n",
    "print(m)"
   ]
  },
  {
   "cell_type": "markdown",
   "metadata": {},
   "source": [
    "$m=2.43746183374*10^{-26} kg$\n",
    "\n",
    "But, fuck, that's only for isothermic, which is a bad model. Instead, let's use https://www.grc.nasa.gov/www/k-12/airplane/atmosmet.html, which has more clear and pre-derived equations on density and temperature. This model is valid in a justifiable approximation up to 11000m, or 36000ft. <br>\n",
    "$p=101.29 * [\\frac{(T + 273.1)}{288.08}]^{5.256}$ where $p$ is the pressure in kPascals, and T is the temp in degC <br>\n",
    "$T = 15.04 - .00649 * h $ for an altitude h in meters<br>\n",
    "$\\rho = \\frac{p}{[.2869 * (T + 273.1)]}$ for a density in kg/m^3\n",
    "Using this, we get the following curves for temp and density as a function of height:"
   ]
  },
  {
   "cell_type": "code",
   "execution_count": 23,
   "metadata": {},
   "outputs": [
    {
     "data": {
      "text/plain": [
       "Text(0,0.5,u'Pressure(kPa), Temp(C), Density (normed)')"
      ]
     },
     "execution_count": 23,
     "metadata": {},
     "output_type": "execute_result"
    },
    {
     "data": {
      "image/png": "[encoded data removed]",
      "text/plain": [
       "<matplotlib.figure.Figure at 0xb6eeb38>"
      ]
     },
     "metadata": {},
     "output_type": "display_data"
    }
   ],
   "source": [
    "h=np.linspace(0,10000,1000)\n",
    "def pressure(T):\n",
    "    return 101.29 * np.power([(T+273.1)/288.08],5.256)\n",
    "def temp(h):\n",
    "    return 15.04 - 0.00649*h\n",
    "def density(T,p):\n",
    "    return p/(.2869*(T+273.1))\n",
    "Temp = temp(h)\n",
    "Press=pressure(Temp)\n",
    "dens = density(Temp,Press[0]) *100\n",
    "\n",
    "plt.plot(h,Temp,'-',c='red',label='Temp')\n",
    "plt.plot(h,Press[0],'-',c='blue',label = 'Pressure')\n",
    "plt.plot(h,dens,'-',c='green',label = 'Density')\n",
    "plt.title('Pressure, Volume, Density vs. Altitude')\n",
    "plt.xlabel('h (meters)')\n",
    "plt.ylabel('Pressure(kPa), Temp(C), Density (normed)')"
   ]
  },
  {
   "cell_type": "markdown",
   "metadata": {},
   "source": [
    "Which is both pretty and seems like a valid model, within a decent approx"
   ]
  },
  {
   "cell_type": "markdown",
   "metadata": {},
   "source": [
    "#### Now, for some Drag\n",
    "drag force is $D=.5*C_d*\\rho*A_{ref}*v^2$, where $C_d$ is calculated using experimental methods, and depends on which surface area is taken. I'll be using the drag calcs from the OpenRocket documentation, which indicate that\n",
    "$C_{d,friction}=C_{f_c}\\frac{(1+\\frac{1}{2f_B})*A_{wet,body}+(1+\\frac{2t}{c})*A_{wet,fins}}{A_{ref}}$, where <br>\n",
    "$C_{f_c} = C_f (1-0.1M^2)$ for subsonic, or  $C_{f_c} =\\frac{C_f} {(1+0.15M^2)^{0.58}}$<br>\n",
    "$C_f=1.48*10^{-2}$ if $R<10^4$, $\\frac{1}{(1.50\\ln{R}-5.6)^2}$ if $10^4<R<R_{crit}$, or $0.032(\\frac{R_s}{L})^{0.2}$ if $R>R_{crit}$, where $R_s$ is the approximate surface roughness, and $R$ is the Reynolds number such that $R=\\frac{v_0L}{\\nu}$, $L$ being the length of the rocket, $\\nu$ is the kinematic viscocity of air ($=\\frac{0.001792}{\\rho}\\exp{(-1.94-4.80\\frac{273.16}{T}+6.74(\\frac{273.16}{T})^2)}$), and $v_0$ is more or less the free speed of the rocket.\n",
    "$t$ is the mean chord of the fins, $=\\frac{2}{S}\\int_{0}^{\\frac{b}{2}}c^2dy$<br>\n",
    "$f_b=length/diameter$ <br><br>\n",
    "\n",
    "I will be limiting myself to smooth rockets, i.e. those without shoulders or significant changes in diameter, as well as tangent ogive nosecones (arguably the best type, and therefore the most commonly used). Also, I'll be ignoring the negligible parts of drag force (parasitic drag from lugs, as well as maybe nose pressure drag, tho this will fuck my accuracy at supersonic velocities). Thus the drag can be calculated as below:\n",
    "\n",
    "Compiling self vars:\n",
    "- velocity, v\n",
    "- altitude, h\n",
    "- length, length\n",
    "- diameter, diameter\n",
    "- surface finish height, self.surface_finish=60x10^(-6)\n",
    "- fin thickness, fin_thickness\n",
    "- number of fins, num_fins\n",
    "- inner chord, inner_chord\n",
    "- outer chord, outer_chord\n",
    "- fin height, fin_height\n",
    "- fin leading edge angle, fin_angle\n",
    "- nosecone length, nose_length\n"
   ]
  },
  {
   "cell_type": "code",
   "execution_count": null,
   "metadata": {},
   "outputs": [],
   "source": [
    "def reynolds(altitude,self):\n",
    "    Temp = temp(h)\n",
    "    Pres = pressure(T)\n",
    "    dens = density(Temp,Pres)\n",
    "    kinvisc = (0.001792/dens)*np.exp(-1.94-4.80(273.16/Temp)+6.74(273.16/Temp)**2)\n",
    "    return self.v*self.length/kinvisc\n",
    "def r_crit(self):\n",
    "    return 51*np.power((self.surface_finish/self.length),-1.039)\n",
    "def Mach(self):\n",
    "    return self.v/331.2\n",
    "def C_f(altitude, self):\n",
    "    R = reynolds(altitude,self)\n",
    "    R_crit = r_crit(self)\n",
    "    if(R<10**4):\n",
    "        return 1.48*10**(-2)\n",
    "    else if (R<R_crit):\n",
    "        return 1/((1.5*np.log(R)-5.6)**2)\n",
    "    else:\n",
    "        return 0.032*(self.surface_finish/self.length)**(0.2)\n",
    "def C_f_c(altitude,self):\n",
    "    M = Mach(self)\n",
    "    if(M<1):\n",
    "        return C_f(altitude,self)*(1-0.1*M**2)\n",
    "    else:\n",
    "        return C_f(altitude,self)/((1+.15*M**2)**0.58)\n",
    "def mean_chord(self):\n",
    "    return (self.inner_chord+self.outer_chord)/2.\n",
    "def A_fins_wet(self):\n",
    "    face_area = .5*(self.outer_chord + self.inner_chord)*self.fin_height\n",
    "    upper_edge_l = self.fin_height/np.cos(self.fin_angle*np.pi/180.)\n",
    "    lower_edge_l =np.sqrt( (self.inner_chord-(self.fin_height*np.tan(self.fin_angle*np.pi/180.)+self.outer_chord))**2 + self.fin_height**2)\n",
    "    return num_fins*(2*face_area + self.fin_thickness*(upper_edge_l + self.outer_chord + lower_edge_l))\n",
    "def A_body_wet(self):\n",
    "    tube_area = self.length *np.pi*self.diameter\n",
    "    ogive_rad = (self.length**2 + self.diameter**2/4)/(self.diameter)\n",
    "    cone_area = 2*np.pi*ogive_rad*((self.diameter/2-ogive_rad)*np.arcsin(self.nose_length/ogive_rad)+self.nose_length)\n",
    "    return tube_area+cone_area\n",
    "def C_d_friction(altitude,self):\n",
    "    A_body = A_body_wet(self) ###make this a constant, don't reassess every iteration\n",
    "    A_fins = A_fins_wet(self) ###make this a constant\n",
    "    t = self.fin_thickness\n",
    "    c = mean_chord(self) ###make this a constant\n",
    "    Cfc = C_f_c(altitude,self)\n",
    "    return Cfc * ((1+(1/2/(self.length/self.diameter)))*A_body + (1+(2*t/c))*A_fins)/(np.pi * self.diameter**2 / 4.)\n",
    "def C_d_base(self):\n",
    "    M=Mach(self)\n",
    "    if(M<1):\n",
    "        return (.12+.13*M**2)\n",
    "    else:\n",
    "        return (.25/M)\n",
    "def C_d_fins(self):\n",
    "    C_d_b = C_d_base(self)\n",
    "    C_d_f = 0.0\n",
    "    M=Mach(self)\n",
    "    if(M<0.9):\n",
    "        C_d_f = (1-M**2)**-0.417 -1\n",
    "    else if(M<1):\n",
    "        C_d_f = 1-1.785*(M-0.9)\n",
    "    else:\n",
    "        C_d_f = 1.214 - (.502/M**2) + (1.095/M**4)\n",
    "    C_d_tot = C_d_b + C_d_f\n",
    "    return self.num_fins*self.fin_thickness*self.fin_height*C_d_tot/(np.pi*self.diameter**2/4.)\n",
    "def C_d(altitude,self):\n",
    "    return C_d_friction(altitude,self) + C_d_base + C_d_fins\n",
    "\n"
   ]
  }
 ],
 "metadata": {
  "kernelspec": {
   "display_name": "Python [conda env:Anaconda2]",
   "language": "python",
   "name": "conda-env-Anaconda2-py"
  },
  "language_info": {
   "codemirror_mode": {
    "name": "ipython",
    "version": 2
   },
   "file_extension": ".py",
   "mimetype": "text/x-python",
   "name": "python",
   "nbconvert_exporter": "python",
   "pygments_lexer": "ipython2",
   "version": "2.7.14"
  }
 },
 "nbformat": 4,
 "nbformat_minor": 2
}
